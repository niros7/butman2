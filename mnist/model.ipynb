{
 "cells": [
  {
   "cell_type": "code",
   "execution_count": 1,
   "metadata": {},
   "outputs": [
    {
     "name": "stdout",
     "output_type": "stream",
     "text": [
      "Extracting MNIST_data/train-images-idx3-ubyte.gz\n",
      "Extracting MNIST_data/train-labels-idx1-ubyte.gz\n",
      "Extracting MNIST_data/t10k-images-idx3-ubyte.gz\n",
      "Extracting MNIST_data/t10k-labels-idx1-ubyte.gz\n",
      "55000 10000 5000\n",
      "(55000, 784) (55000, 10)\n",
      "0.0 1.0\n"
     ]
    },
    {
     "data": {
      "text/plain": [
       "<matplotlib.image.AxesImage at 0x1a652bae828>"
      ]
     },
     "execution_count": 1,
     "metadata": {},
     "output_type": "execute_result"
    },
    {
     "data": {
      "image/png": "[encoded data removed]",
      "text/plain": [
       "<matplotlib.figure.Figure at 0x1a652af2358>"
      ]
     },
     "metadata": {},
     "output_type": "display_data"
    }
   ],
   "source": [
    "import tensorflow as tf\n",
    "import tensorflow.examples.tutorials.mnist.input_data as input_data\n",
    "import numpy as np\n",
    "import matplotlib.pyplot as plt\n",
    "\n",
    "# read the data and labels as ont-hot vectors\n",
    "# one-hot means a sparse vector for every observation where only\n",
    "# the class label is 1, and every other class is 0.\n",
    "# more info here:\n",
    "mnist = input_data.read_data_sets('MNIST_data/', one_hot=True)\n",
    "\n",
    "%matplotlib inline\n",
    "# mnist is now a DataSet with accessors for:\n",
    "#'train', 'test', and 'validation'.\n",
    "# within each, we can access:\n",
    "# images, labels, and num_examples\n",
    "print(mnist.train.num_examples,\n",
    "      mnist.test.num_examples,\n",
    "      mnist.validation.num_examples)\n",
    "\n",
    "# the images are stored as:\n",
    "# n_observations x n_features tensor (n-dim array)\n",
    "# the labels are stored as n_observations x n_labels,\n",
    "# where each observation is a one-hot vector.\n",
    "print(mnist.train.images.shape, mnist.train.labels.shape)\n",
    "\n",
    "# the range of the values of the images is from 0-1\n",
    "print(np.min(mnist.train.images), np.max(mnist.train.images))\n",
    "\n",
    "# we can visualize any one of the images by reshaping it to a 28x28 image\n",
    "plt.imshow(np.reshape(mnist.train.images[100, :], (28, 28)), cmap='gray')"
   ]
  },
  {
   "cell_type": "code",
   "execution_count": 2,
   "metadata": {
    "scrolled": false
   },
   "outputs": [],
   "source": [
    "n_input = 784\n",
    "n_output = 10\n",
    "n_hidden1 = 256\n",
    "n_hidden2 = 256\n",
    "n_hidden3 = 128\n",
    "\n",
    "net_input = tf.placeholder(tf.float32, [None, n_input], name=\"net_input\")\n",
    "y_true = tf.placeholder(tf.float32, [None, n_output])\n",
    "keep_prob = tf.placeholder(tf.float32, name=\"keep_prob\")\n",
    "\n",
    "# Store layers weight & bias\n",
    "weights = {\n",
    "    'w1': tf.Variable(tf.truncated_normal([n_input, n_hidden1])),\n",
    "    'w2': tf.Variable(tf.truncated_normal([n_hidden1, n_hidden2])),\n",
    "    'w3': tf.Variable(tf.truncated_normal([n_hidden2, n_hidden3])),\n",
    "    'out': tf.Variable(tf.truncated_normal([n_hidden1, n_output]))\n",
    "}\n",
    "biases = {\n",
    "    'b1': tf.Variable(tf.truncated_normal([n_hidden1])),\n",
    "    'b2': tf.Variable(tf.truncated_normal([n_hidden2])),\n",
    "    'b3': tf.Variable(tf.truncated_normal([n_hidden3])),\n",
    "    'out': tf.Variable(tf.truncated_normal([n_output]))\n",
    "}\n",
    "\n",
    "# Build layers\n",
    "layer_1 = tf.nn.sigmoid(tf.matmul(net_input, weights['w1']) + biases['b1'])\n",
    "layer_1 = tf.nn.dropout(layer_1, keep_prob)\n",
    "layer_2 = tf.nn.sigmoid(tf.matmul(layer_1, weights['w2']) + biases['b2'])\n",
    "layer_2 = tf.nn.dropout(layer_2, keep_prob)\n",
    "layer_3 = tf.nn.sigmoid(tf.matmul(layer_2, weights['w3']) + biases['b3'])\n",
    "layer_3 = tf.nn.dropout(layer_3, keep_prob)\n",
    "out_layer = tf.nn.sigmoid(tf.matmul(layer_1, weights['out']) + biases['out'])\n",
    " \n",
    "net_output = tf.identity(out_layer, name=\"net_output\")\n",
    "\n",
    "# prediction and actual using the argmax as the predicted label\n",
    "# מחזיר בעבור כל אובייקט בבאטצ' האם התוצאה שחזינו הייתה התוצאה של המנחה\n",
    "correct_prediction = tf.equal(tf.argmax(net_output, 1), tf.argmax(y_true, 1))\n",
    "\n",
    "# And now we can look at the mean of our network's correct guesses\n",
    "# מחזיר ממוצע של כל התוצאות - כלומר הדיוק שלנו. בוקטור יהיה 1 עבור חיזוי נכון ו 0 עבור חיזוי לא נכון\n",
    "accuracy = tf.reduce_mean(tf.cast(correct_prediction, \"float\"))\n",
    "\n",
    "# cross_entropy = -tf.reduce_sum(y_true * tf.log(net_output))\n",
    "# פונקציית חישוב אנטרופיה יותר יציבה\n",
    "cost = tf.reduce_sum(tf.nn.softmax_cross_entropy_with_logits(logits=net_output, labels=y_true))\n",
    "\n",
    "eta = 0.001\n",
    "optimizer = tf.train.AdamOptimizer(eta).minimize(cost)\n",
    "\n",
    "saver = tf.train.Saver()\n",
    "sess = tf.Session()\n",
    "sess.run(tf.global_variables_initializer())"
   ]
  },
  {
   "cell_type": "code",
   "execution_count": 3,
   "metadata": {
    "scrolled": false
   },
   "outputs": [
    {
     "name": "stdout",
     "output_type": "stream",
     "text": [
      "Epoch 1 - train accuracy: 0.8179636597633362, validation accuracy: 0.8281999826431274\n",
      "Epoch 1 - train loss: 1.642959090909091, validation loss: 1.63943359375\n",
      "Epoch 2 - train accuracy: 0.8687818050384521, validation accuracy: 0.8790000081062317\n",
      "Epoch 2 - train loss: 1.5957869318181819, validation loss: 1.59067451171875\n",
      "Epoch 3 - train accuracy: 0.8913454413414001, validation accuracy: 0.8981999754905701\n",
      "Epoch 3 - train loss: 1.5710526988636364, validation loss: 1.56575517578125\n",
      "Epoch 4 - train accuracy: 0.9039090871810913, validation accuracy: 0.9100000262260437\n",
      "Epoch 4 - train loss: 1.5558289772727272, validation loss: 1.55001796875\n",
      "Epoch 5 - train accuracy: 0.9132182002067566, validation accuracy: 0.9197999835014343\n",
      "Epoch 5 - train loss: 1.5447721590909091, validation loss: 1.54045546875\n",
      "Epoch 6 - train accuracy: 0.919981837272644, validation accuracy: 0.9228000044822693\n",
      "Epoch 6 - train loss: 1.5376116477272728, validation loss: 1.53388046875\n",
      "Epoch 7 - train accuracy: 0.9255272746086121, validation accuracy: 0.9272000193595886\n",
      "Epoch 7 - train loss: 1.531051846590909, validation loss: 1.52825908203125\n",
      "Epoch 8 - train accuracy: 0.9300181865692139, validation accuracy: 0.9323999881744385\n",
      "Epoch 8 - train loss: 1.5266664772727272, validation loss: 1.52457578125\n",
      "Epoch 9 - train accuracy: 0.9321091175079346, validation accuracy: 0.9336000084877014\n",
      "Epoch 9 - train loss: 1.5232528409090909, validation loss: 1.52088935546875\n",
      "Epoch 10 - train accuracy: 0.9359090924263, validation accuracy: 0.9363999962806702\n",
      "Epoch 10 - train loss: 1.519914346590909, validation loss: 1.51929287109375\n",
      "Accuracy for test set: 0.934499979019165\n"
     ]
    },
    {
     "data": {
      "image/png": "[encoded data removed]",
      "text/plain": [
       "<matplotlib.figure.Figure at 0x1a653e02b70>"
      ]
     },
     "metadata": {},
     "output_type": "display_data"
    }
   ],
   "source": [
    "batch_size = 60\n",
    "n_epochs = 10\n",
    "l_valid_accuracy = list()\n",
    "l_train_accuracy = list()\n",
    "l_train_loss = list()\n",
    "l_valid_loss = list()\n",
    "\n",
    "for epoch_i in range(n_epochs):\n",
    "    for batch_i in range(0, mnist.train.num_examples, batch_size):\n",
    "        batch_xs, batch_ys = mnist.train.next_batch(batch_size)\n",
    "        # למעשה מריץ מאחורה את כל המודל שהגדרנו ואם צריך עושה גם עדכון לאחור לכלל המשקלים\n",
    "        sess.run(optimizer, feed_dict={\n",
    "            net_input: batch_xs,\n",
    "            y_true: batch_ys,\n",
    "            keep_prob: 0.5\n",
    "        })\n",
    "        \n",
    "    train_accuracy = sess.run(accuracy, feed_dict={\n",
    "                       net_input: mnist.train.images,\n",
    "                       y_true: mnist.train.labels,\n",
    "                       keep_prob: 1.0})\n",
    "    \n",
    "    train_loss = sess.run(cost, feed_dict={\n",
    "                       net_input: mnist.train.images,\n",
    "                       y_true: mnist.train.labels,\n",
    "                       keep_prob: 1.0})    \n",
    "    train_loss = train_loss / mnist.train.num_examples\n",
    "    \n",
    "    valid_accuracy = sess.run(accuracy, feed_dict={\n",
    "                       net_input: mnist.validation.images,\n",
    "                       y_true: mnist.validation.labels,\n",
    "                       keep_prob: 1.0})\n",
    "    \n",
    "    valid_loss = sess.run(cost, feed_dict={\n",
    "                       net_input: mnist.validation.images,\n",
    "                       y_true: mnist.validation.labels,\n",
    "                       keep_prob: 1.0})\n",
    "    valid_loss = valid_loss / mnist.validation.num_examples    \n",
    "    \n",
    "    print('Epoch {} - train accuracy: {}, validation accuracy: {}'.format(epoch_i + 1,train_accuracy ,valid_accuracy))\n",
    "    print('Epoch {} - train loss: {}, validation loss: {}'.format(epoch_i + 1,train_loss ,valid_loss))\n",
    "    \n",
    "    l_train_accuracy.append(train_accuracy)   \n",
    "    l_valid_accuracy.append(valid_accuracy)       \n",
    "    l_train_loss.append(train_loss)\n",
    "    l_valid_loss.append(valid_loss)\n",
    "    \n",
    "plt.plot(l_train_accuracy)\n",
    "plt.plot(l_valid_accuracy)\n",
    "plt.xlabel('Epocs')\n",
    "plt.ylabel('Accuracy')\n",
    "plt.title('Train accuracy VS. validation accuracy')\n",
    "plt.legend(['Train', 'Validation'])\n",
    "\n",
    "print(\"Accuracy for test set: {}\". format(sess.run(accuracy,\n",
    "               feed_dict={\n",
    "                   net_input: mnist.test.images,\n",
    "                   y_true: mnist.test.labels,\n",
    "                   keep_prob: 1.0\n",
    "               })))"
   ]
  },
  {
   "cell_type": "code",
   "execution_count": 4,
   "metadata": {},
   "outputs": [
    {
     "data": {
      "text/plain": [
       "<matplotlib.legend.Legend at 0x1a654115a90>"
      ]
     },
     "execution_count": 4,
     "metadata": {},
     "output_type": "execute_result"
    },
    {
     "data": {
      "image/png": "[encoded data removed]",
      "text/plain": [
       "<matplotlib.figure.Figure at 0x1a653df0c50>"
      ]
     },
     "metadata": {},
     "output_type": "display_data"
    }
   ],
   "source": [
    "plt.plot(l_train_loss)\n",
    "plt.plot(l_valid_loss)\n",
    "plt.xlabel('Epocs')\n",
    "plt.ylabel('Loss')\n",
    "plt.title('Train loss VS. validation loss')\n",
    "plt.legend(['Train', 'Validation'])"
   ]
  },
  {
   "cell_type": "code",
   "execution_count": 5,
   "metadata": {},
   "outputs": [],
   "source": [
    "save_path = saver.save(sess, \"./mnist_model\")"
   ]
  }
 ],
 "metadata": {
  "kernelspec": {
   "display_name": "Python 3",
   "language": "python",
   "name": "python3"
  },
  "language_info": {
   "codemirror_mode": {
    "name": "ipython",
    "version": 3
   },
   "file_extension": ".py",
   "mimetype": "text/x-python",
   "name": "python",
   "nbconvert_exporter": "python",
   "pygments_lexer": "ipython3",
   "version": "3.5.4"
  }
 },
 "nbformat": 4,
 "nbformat_minor": 2
}
