{
 "cells": [
  {
   "cell_type": "code",
   "execution_count": 1,
   "metadata": {},
   "outputs": [
    {
     "name": "stdout",
     "output_type": "stream",
     "text": [
      "Extracting MNIST_data/train-images-idx3-ubyte.gz\n",
      "Extracting MNIST_data/train-labels-idx1-ubyte.gz\n",
      "Extracting MNIST_data/t10k-images-idx3-ubyte.gz\n",
      "Extracting MNIST_data/t10k-labels-idx1-ubyte.gz\n",
      "55000 10000 5000\n",
      "(55000, 784) (55000, 10)\n",
      "0.0 1.0\n"
     ]
    },
    {
     "data": {
      "text/plain": [
       "<matplotlib.image.AxesImage at 0x184800fac18>"
      ]
     },
     "execution_count": 1,
     "metadata": {},
     "output_type": "execute_result"
    },
    {
     "data": {
      "image/png": "[encoded data removed]",
      "text/plain": [
       "<matplotlib.figure.Figure at 0x18480044748>"
      ]
     },
     "metadata": {},
     "output_type": "display_data"
    }
   ],
   "source": [
    "import tensorflow as tf\n",
    "import tensorflow.examples.tutorials.mnist.input_data as input_data\n",
    "import numpy as np\n",
    "import matplotlib.pyplot as plt\n",
    "\n",
    "# read the data and labels as ont-hot vectors\n",
    "# one-hot means a sparse vector for every observation where only\n",
    "# the class label is 1, and every other class is 0.\n",
    "# more info here:\n",
    "mnist = input_data.read_data_sets('MNIST_data/', one_hot=True)\n",
    "\n",
    "%matplotlib inline\n",
    "# mnist is now a DataSet with accessors for:\n",
    "#'train', 'test', and 'validation'.\n",
    "# within each, we can access:\n",
    "# images, labels, and num_examples\n",
    "print(mnist.train.num_examples,\n",
    "      mnist.test.num_examples,\n",
    "      mnist.validation.num_examples)\n",
    "\n",
    "# the images are stored as:\n",
    "# n_observations x n_features tensor (n-dim array)\n",
    "# the labels are stored as n_observations x n_labels,\n",
    "# where each observation is a one-hot vector.\n",
    "print(mnist.train.images.shape, mnist.train.labels.shape)\n",
    "\n",
    "# the range of the values of the images is from 0-1\n",
    "print(np.min(mnist.train.images), np.max(mnist.train.images))\n",
    "\n",
    "# we can visualize any one of the images by reshaping it to a 28x28 image\n",
    "plt.imshow(np.reshape(mnist.train.images[100, :], (28, 28)), cmap='gray')"
   ]
  },
  {
   "cell_type": "code",
   "execution_count": 2,
   "metadata": {
    "scrolled": false
   },
   "outputs": [],
   "source": [
    "n_input = 784\n",
    "n_output = 10\n",
    "n_hidden = 256\n",
    "net_input = tf.placeholder(tf.float32, [None, n_input], name=\"net_input\")\n",
    "y_true = tf.placeholder(tf.float32, [None, 10])\n",
    "\n",
    "W1 = tf.Variable(tf.truncated_normal ([n_input, n_hidden]))\n",
    "b1 = tf.Variable(tf.truncated_normal ([n_hidden]))\n",
    "\n",
    "W2 = tf.Variable(tf.truncated_normal ([n_hidden, n_output]))\n",
    "b2 = tf.Variable(tf.truncated_normal ([n_output]))\n",
    "\n",
    "hidden_layer = tf.nn.sigmoid(tf.matmul(net_input, W1) + b1)\n",
    "keep_prob = tf.placeholder(tf.float32, name=\"keep_prob\")\n",
    "hidden_drop = tf.nn.dropout(hidden_layer, keep_prob)\n",
    "\n",
    "net_output = tf.nn.sigmoid(tf.matmul(hidden_drop, W2) + b2, name = \"net_output\") \n",
    "\n",
    "# prediction and actual using the argmax as the predicted label\n",
    "# מחזיר בעבור כל אובייקט בבאטצ' האם התוצאה שחזינו הייתה התוצאה של המנחה\n",
    "correct_prediction = tf.equal(tf.argmax(net_output, 1), tf.argmax(y_true, 1))\n",
    "\n",
    "# And now we can look at the mean of our network's correct guesses\n",
    "# מחזיר ממוצע של כל התוצאות - כלומר הדיוק שלנו. בוקטור יהיה 1 עבור חיזוי נכון ו 0 עבור חיזוי לא נכון\n",
    "accuracy = tf.reduce_mean(tf.cast(correct_prediction, \"float\"))\n",
    "\n",
    "# cross_entropy = -tf.reduce_sum(y_true * tf.log(net_output))\n",
    "# פונקציית חישוב אנטרופיה יותר יציבה\n",
    "cost = tf.reduce_sum(tf.nn.softmax_cross_entropy_with_logits(logits=net_output, labels=y_true))\n",
    "\n",
    "eta = 0.001\n",
    "optimizer = tf.train.AdamOptimizer(eta).minimize(cost)\n",
    "#optimizer = tf.train.GradientDescentOptimizer(eta).minimize(cost)\n",
    "\n",
    "saver = tf.train.Saver()\n",
    "sess = tf.Session()\n",
    "sess.run(tf.global_variables_initializer())"
   ]
  },
  {
   "cell_type": "code",
   "execution_count": 3,
   "metadata": {
    "scrolled": false
   },
   "outputs": [
    {
     "name": "stdout",
     "output_type": "stream",
     "text": [
      "Epoch 1 - train accuracy: 0.8181999921798706, validation accuracy: 0.8202000260353088\n",
      "Epoch 1 - train loss: 90697.0625, validation loss: 8217.955078125\n",
      "Epoch 2 - train accuracy: 0.8697636127471924, validation accuracy: 0.875\n",
      "Epoch 2 - train loss: 87783.828125, validation loss: 7944.216796875\n",
      "Epoch 3 - train accuracy: 0.8945817947387695, validation accuracy: 0.9002000093460083\n",
      "Epoch 3 - train loss: 86312.078125, validation loss: 7814.5166015625\n",
      "Epoch 4 - train accuracy: 0.9039999842643738, validation accuracy: 0.9092000126838684\n",
      "Epoch 4 - train loss: 85591.796875, validation loss: 7761.1357421875\n",
      "Epoch 5 - train accuracy: 0.9144181609153748, validation accuracy: 0.9157999753952026\n",
      "Epoch 5 - train loss: 84984.703125, validation loss: 7706.8388671875\n",
      "Epoch 6 - train accuracy: 0.920163631439209, validation accuracy: 0.9223999977111816\n",
      "Epoch 6 - train loss: 84571.375, validation loss: 7675.25146484375\n",
      "Epoch 7 - train accuracy: 0.9251272678375244, validation accuracy: 0.9283999800682068\n",
      "Epoch 7 - train loss: 84254.7734375, validation loss: 7645.8359375\n",
      "Epoch 8 - train accuracy: 0.9302363395690918, validation accuracy: 0.9323999881744385\n",
      "Epoch 8 - train loss: 83968.4140625, validation loss: 7622.84130859375\n",
      "Epoch 9 - train accuracy: 0.9340181946754456, validation accuracy: 0.9366000294685364\n",
      "Epoch 9 - train loss: 83730.1953125, validation loss: 7605.64794921875\n",
      "Epoch 10 - train accuracy: 0.9363636374473572, validation accuracy: 0.9412000179290771\n",
      "Epoch 10 - train loss: 83575.640625, validation loss: 7588.84814453125\n",
      "Accuracy for test set: 0.9341999888420105\n"
     ]
    },
    {
     "data": {
      "image/png": "[encoded data removed]",
      "text/plain": [
       "<matplotlib.figure.Figure at 0x184805e8f98>"
      ]
     },
     "metadata": {},
     "output_type": "display_data"
    }
   ],
   "source": [
    "batch_size = 60\n",
    "n_epochs = 10\n",
    "l_valid_accuracy = list()\n",
    "l_train_accuracy = list()\n",
    "l_train_loss = list()\n",
    "l_valid_loss = list()\n",
    "\n",
    "for epoch_i in range(n_epochs):\n",
    "    for batch_i in range(0, mnist.train.num_examples, batch_size):\n",
    "        batch_xs, batch_ys = mnist.train.next_batch(batch_size)\n",
    "        # למעשה מריץ מאחורה את כל המודל שהגדרנו ואם צריך עושה גם עדכון לאחור לכלל המשקלים\n",
    "        sess.run(optimizer, feed_dict={\n",
    "            net_input: batch_xs,\n",
    "            y_true: batch_ys,\n",
    "            keep_prob: 0.5\n",
    "        })\n",
    "        \n",
    "    train_accuracy = sess.run(accuracy, feed_dict={\n",
    "                       net_input: mnist.train.images,\n",
    "                       y_true: mnist.train.labels,\n",
    "                       keep_prob: 1.0})\n",
    "    \n",
    "    train_loss = sess.run(cost, feed_dict={\n",
    "                       net_input: mnist.train.images,\n",
    "                       y_true: mnist.train.labels,\n",
    "                       keep_prob: 1.0})\n",
    "    \n",
    "    valid_accuracy = sess.run(accuracy, feed_dict={\n",
    "                       net_input: mnist.validation.images,\n",
    "                       y_true: mnist.validation.labels,\n",
    "                       keep_prob: 1.0})\n",
    "    \n",
    "    valid_loss = sess.run(cost, feed_dict={\n",
    "                       net_input: mnist.validation.images,\n",
    "                       y_true: mnist.validation.labels,\n",
    "                       keep_prob: 1.0})\n",
    "    \n",
    "    print('Epoch {} - train accuracy: {}, validation accuracy: {}'.format(epoch_i + 1,train_accuracy ,valid_accuracy))\n",
    "    print('Epoch {} - train loss: {}, validation loss: {}'.format(epoch_i + 1,train_loss ,valid_loss))\n",
    "    \n",
    "    l_valid_accuracy.append(valid_accuracy)  \n",
    "    l_train_accuracy.append(train_accuracy)    \n",
    "    l_train_loss.append(train_loss/mnist.train.num_examples)\n",
    "    l_valid_loss.append(valid_loss/mnist.validation.num_examples)\n",
    "    \n",
    "plt.plot(l_train_accuracy)\n",
    "plt.plot(l_valid_accuracy)\n",
    "plt.xlabel('Epocs')\n",
    "plt.ylabel('Accuracy')\n",
    "plt.title('Train accuracy VS. validation accuracy')\n",
    "plt.legend(['Train', 'Validation'])\n",
    "\n",
    "print(\"Accuracy for test set: {}\". format(sess.run(accuracy,\n",
    "               feed_dict={\n",
    "                   net_input: mnist.test.images,\n",
    "                   y_true: mnist.test.labels,\n",
    "                   keep_prob: 1.0\n",
    "               })))"
   ]
  },
  {
   "cell_type": "code",
   "execution_count": 13,
   "metadata": {},
   "outputs": [
    {
     "data": {
      "text/plain": [
       "<matplotlib.legend.Legend at 0x21497ea9978>"
      ]
     },
     "execution_count": 13,
     "metadata": {},
     "output_type": "execute_result"
    },
    {
     "data": {
      "image/png": "[encoded data removed]",
      "text/plain": [
       "<matplotlib.figure.Figure at 0x21496409cc0>"
      ]
     },
     "metadata": {},
     "output_type": "display_data"
    }
   ],
   "source": [
    "plt.plot(l_train_loss)\n",
    "plt.plot(l_valid_loss)\n",
    "plt.xlabel('Epocs')\n",
    "plt.ylabel('Loss')\n",
    "plt.title('Train loss VS. validation loss')\n",
    "plt.legend(['Train', 'Validation'])"
   ]
  },
  {
   "cell_type": "code",
   "execution_count": 4,
   "metadata": {},
   "outputs": [],
   "source": [
    "save_path = saver.save(sess, \"./mnist_model\")"
   ]
  }
 ],
 "metadata": {
  "kernelspec": {
   "display_name": "tensorflow",
   "language": "python",
   "name": "tensorflow"
  },
  "language_info": {
   "codemirror_mode": {
    "name": "ipython",
    "version": 3
   },
   "file_extension": ".py",
   "mimetype": "text/x-python",
   "name": "python",
   "nbconvert_exporter": "python",
   "pygments_lexer": "ipython3",
   "version": "3.5.4"
  }
 },
 "nbformat": 4,
 "nbformat_minor": 2
}
