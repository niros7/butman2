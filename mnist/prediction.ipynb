{
 "cells": [
  {
   "cell_type": "code",
   "execution_count": 16,
   "metadata": {},
   "outputs": [],
   "source": [
    "import tensorflow as tf\n",
    "import cv2\n",
    "import numpy as np   \n",
    "import sys\n",
    "import os"
   ]
  },
  {
   "cell_type": "code",
   "execution_count": 19,
   "metadata": {},
   "outputs": [
    {
     "name": "stdout",
     "output_type": "stream",
     "text": [
      "INFO:tensorflow:Restoring parameters from ./mnist_model\n"
     ]
    }
   ],
   "source": [
    "sess=tf.Session()\n",
    "sess.run(tf.global_variables_initializer())\n",
    "\n",
    "saver = tf.train.import_meta_graph('./mnist_model.meta')\n",
    "saver.restore(sess, './mnist_model')"
   ]
  },
  {
   "cell_type": "code",
   "execution_count": 20,
   "metadata": {},
   "outputs": [],
   "source": [
    "graph = tf.get_default_graph()\n",
    "keep_prob =  graph.get_tensor_by_name(\"keep_prob:0\")\n",
    "net_output = graph.get_tensor_by_name(\"net_output:0\")\n",
    "net_input = graph.get_tensor_by_name(\"net_input:0\")"
   ]
  },
  {
   "cell_type": "code",
   "execution_count": 21,
   "metadata": {},
   "outputs": [
    {
     "name": "stdout",
     "output_type": "stream",
     "text": [
      "picture: C:\\Users\\Tsofan\\Desktop\\ex1\\numbersToTest\\eight1.PNG - result: 2\n",
      "picture: C:\\Users\\Tsofan\\Desktop\\ex1\\numbersToTest\\four1.PNG - result: 4\n",
      "picture: C:\\Users\\Tsofan\\Desktop\\ex1\\numbersToTest\\one1.PNG - result: 1\n",
      "picture: C:\\Users\\Tsofan\\Desktop\\ex1\\numbersToTest\\one2.PNG - result: 8\n",
      "picture: C:\\Users\\Tsofan\\Desktop\\ex1\\numbersToTest\\six1.PNG - result: 6\n",
      "picture: C:\\Users\\Tsofan\\Desktop\\ex1\\numbersToTest\\three1.PNG - result: 3\n",
      "picture: C:\\Users\\Tsofan\\Desktop\\ex1\\numbersToTest\\two1.PNG - result: 2\n",
      "picture: C:\\Users\\Tsofan\\Desktop\\ex1\\numbersToTest\\two2.PNG - result: 2\n",
      "picture: C:\\Users\\Tsofan\\Desktop\\ex1\\numbersToTest\\zero1.PNG - result: 3\n",
      "picture: C:\\Users\\Tsofan\\Desktop\\ex1\\numbersToTest\\zero2.PNG - result: 0\n"
     ]
    }
   ],
   "source": [
    "#path = \"C:\\\\Users\\\\Tsofan\\\\Desktop\\\\ex1\\\\numbersToTest\"\n",
    "path = sys.argv[1]\n",
    "\n",
    "for file in os.listdir(path):\n",
    "    img_path = path + \"\\\\\" + file\n",
    "    \n",
    "    img = cv2.imread(img_path, cv2.IMREAD_GRAYSCALE)\n",
    "    resized_image = cv2.resize(img, (28, 28))\n",
    "    img_as_arr = np.array(resized_image, dtype = np.float32)\n",
    "    img_as_arr.flatten()\n",
    "    img_as_arr = img_as_arr.reshape([1,784])\n",
    "    \n",
    "    res = sess.run(net_output,  \n",
    "                   feed_dict= {'net_input:0': img_as_arr, 'keep_prob:0': 1.0});\n",
    "    \n",
    "    finalRes = np.argmax(res)\n",
    "    print('picture: {} - result: {}'.format(img_path,finalRes))"
   ]
  }
 ],
 "metadata": {
  "kernelspec": {
   "display_name": "tensorflow",
   "language": "python",
   "name": "tensorflow"
  },
  "language_info": {
   "codemirror_mode": {
    "name": "ipython",
    "version": 3
   },
   "file_extension": ".py",
   "mimetype": "text/x-python",
   "name": "python",
   "nbconvert_exporter": "python",
   "pygments_lexer": "ipython3",
   "version": "3.5.4"
  }
 },
 "nbformat": 4,
 "nbformat_minor": 2
}
